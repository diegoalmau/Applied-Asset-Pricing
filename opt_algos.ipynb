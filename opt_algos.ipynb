{
 "cells": [
  {
   "cell_type": "markdown",
   "source": [
    "# Mean-Variance Optimization with Systematic and Idiosyncratic Risk\n",
    "\n",
    "### Objective\n",
    "\n",
    "The objective is to maximize the portfolio's expected excess return while accounting for both systematic and idiosyncratic risk:\n",
    "\n",
    "$$\n",
    "\\max_{\\mathbf{w}} \\quad \\mathbf{w}^\\top \\hat{\\boldsymbol{\\mu}} - \\frac{\\lambda}{2} \\mathbf{w}^\\top \\mathbf{\\Sigma} \\mathbf{w}\n",
    "$$\n",
    "\n",
    "where:\n",
    "- $ \\mathbf{w} $: Vector of portfolio weights.\n",
    "- $ \\hat{\\boldsymbol{\\mu}} $: Vector of expected excess returns based on Fama-French predicted returns (systematic component).\n",
    "- $ \\mathbf{\\Sigma} = \\mathbf{\\Sigma}_{\\text{systematic}} + \\mathbf{\\Sigma}_{\\text{idiosyncratic}} $: Total variance-covariance matrix of returns, defined as the sum of systematic and idiosyncratic risk components.\n",
    "- $ \\lambda $: Risk-aversion coefficient.\n",
    "\n",
    "### Risk Components\n",
    "\n",
    "The total risk $ \\mathbf{\\Sigma} $ is separated into systematic and idiosyncratic components:\n",
    "\n",
    "$$\n",
    "\\mathbf{\\Sigma} = \\mathbf{\\Sigma}_{\\text{systematic}} + \\mathbf{\\Sigma}_{\\text{idiosyncratic}}\n",
    "$$\n",
    "\n",
    "where:\n",
    "- $ \\mathbf{\\Sigma}_{\\text{systematic}} = \\mathbf{B} \\, \\text{Cov}(\\mathbf{F}) \\, \\mathbf{B}^\\top $: Systematic risk component, with $ \\mathbf{B} $ as the matrix of factor loadings (betas) and $ \\text{Cov}(\\mathbf{F}) $ as the covariance matrix of the Fama-French factors.\n",
    "- $ \\mathbf{\\Sigma}_{\\text{idiosyncratic}} = \\text{diag}(\\sigma_{\\text{idiosyncratic}}^2) $: Idiosyncratic risk component, where $ \\sigma_{\\text{idiosyncratic}}^2 $ represents the variance of each asset’s error term (residual variance).\n",
    "\n",
    "### Optimization Problem\n",
    "\n",
    "The optimization problem can be rewritten as:\n",
    "\n",
    "$$\n",
    "\\max_{\\mathbf{w}} \\quad \\mathbf{w}^\\top \\hat{\\boldsymbol{\\mu}} - \\frac{\\lambda}{2} \\mathbf{w}^\\top \\left( \\mathbf{\\Sigma}_{\\text{systematic}} + \\mathbf{\\Sigma}_{\\text{idiosyncratic}} \\right) \\mathbf{w}\n",
    "$$\n",
    "\n",
    "subject to the constraint that the weights sum to one:\n",
    "\n",
    "$$\n",
    "\\sum_{i} w_i = 1\n",
    "$$"
   ],
   "metadata": {
    "collapsed": false
   },
   "id": "9ef53c4f05c89e12"
  },
  {
   "cell_type": "code",
   "execution_count": null,
   "id": "initial_id",
   "metadata": {
    "collapsed": true
   },
   "outputs": [],
   "source": []
  }
 ],
 "metadata": {
  "kernelspec": {
   "display_name": "Python 3",
   "language": "python",
   "name": "python3"
  },
  "language_info": {
   "codemirror_mode": {
    "name": "ipython",
    "version": 2
   },
   "file_extension": ".py",
   "mimetype": "text/x-python",
   "name": "python",
   "nbconvert_exporter": "python",
   "pygments_lexer": "ipython2",
   "version": "2.7.6"
  }
 },
 "nbformat": 4,
 "nbformat_minor": 5
}
